{
 "cells": [
  {
   "cell_type": "code",
   "execution_count": 475,
   "metadata": {},
   "outputs": [],
   "source": [
    "import os\n",
    "import pandas as pd\n",
    "import numpy as np\n",
    "import matplotlib.pyplot as plt\n",
    "from sklearn.metrics import confusion_matrix\n",
    "\n",
    "karsten_path = \"./karsten/answer_sheet_clean.csv\"\n",
    "thiago_path = \"./thiago/answer_sheet_clean.csv\"\n",
    "ben_path = \"./ben/answer_sheet_clean.csv\"\n",
    "\n",
    "second_mapping_path =  \"./mappings/mapping.csv\"\n",
    "first_mapping_path = \"./mappings/first_run_mapping.csv\"\n",
    "\n",
    "karsten_answers = pd.read_csv(karsten_path)\n",
    "thiago_answers = pd.read_csv(thiago_path)\n",
    "ben_answers = pd.read_csv(ben_path)\n",
    "\n",
    "first_mapping = pd.read_csv(first_mapping_path)\n",
    "second_mapping = pd.read_csv(second_mapping_path)\n",
    "\n",
    "first_mapping = first_mapping.rename(columns={\"0\": \"id\"})"
   ]
  },
  {
   "cell_type": "markdown",
   "metadata": {},
   "source": [
    "### calculate the alignment between ground truth and predicted thickness maps w.r.t. detecting macular thickening"
   ]
  },
  {
   "cell_type": "code",
   "execution_count": 476,
   "metadata": {},
   "outputs": [],
   "source": [
    "def plot_confusion_matrix(cm, std_cm, save_dir,normalize=True,title=None):\n",
    "    \"\"\"\n",
    "    This function prints and plots the confusion matrix.\n",
    "    Normalization can be applied by setting `normalize=True`.\n",
    "    \"\"\"\n",
    "    import itertools\n",
    "    plt.rcParams.update({'font.size': 32,'figure.figsize':(15,15)})\n",
    "\n",
    "\n",
    "    plt.figure(figsize=(10,10))\n",
    "\n",
    "    plt.matshow(np.round(cm,2), cmap=plt.cm.Blues,fignum=1)\n",
    "\n",
    "    thresh = 0.6\n",
    "    for i, j in itertools.product(range(cm.shape[0]), range(cm.shape[1])):\n",
    "        if normalize:\n",
    "            plt.text(j, i, \n",
    "         \"{:0.2f}\".format(cm[i, j]) + u\"\\u00B1\"+\"{}\".format(np.round(std_cm[i,j],2)),\n",
    "         size=\"x-small\",\n",
    "         horizontalalignment=\"center\",\n",
    "         color=\"black\" if cm[i, j] < 0.7 else \"white\",weight=\"bold\")\n",
    "\n",
    "    #plt.title(save_dir.split(\"/\")[-1].replace(\".png\",\"\"))\n",
    "    plt.xlabel('Predicted')\n",
    "    plt.ylabel('True')\n",
    "    print(\"Saving:\",save_dir)\n",
    "    plt.savefig(save_dir)\n",
    "    return"
   ]
  },
  {
   "cell_type": "code",
   "execution_count": 477,
   "metadata": {},
   "outputs": [],
   "source": [
    "def long_to_wide(mapping):\n",
    "    answers = [[], [], []]\n",
    "    for name in mapping.record_name.tolist():\n",
    "        answer = mapping[mapping.record_name == name]\n",
    "\n",
    "        first = answer[\"id\"].iloc[0]\n",
    "        second = answer[\"id\"].iloc[1]\n",
    "\n",
    "        answers[0].append(name)\n",
    "        answers[1].append(first)\n",
    "        answers[2].append(second)\n",
    "\n",
    "    wide_ = pd.DataFrame(answers).T\n",
    "    wide_ = wide_.rename(columns={0:\"record_name\", 1:\"gt\", 2:\"p\"})\n",
    "    return wide_\n",
    "\n",
    "first_mapping_wide = long_to_wide(first_mapping)"
   ]
  },
  {
   "cell_type": "code",
   "execution_count": 478,
   "metadata": {},
   "outputs": [
    {
     "data": {
      "text/plain": [
       "(array([[0.63276836, 0.36723164],\n",
       "        [0.19047619, 0.80952381]]), array([[0.72906404, 0.27093596],\n",
       "        [0.17241379, 0.82758621]]), array([[0.72251309, 0.27748691],\n",
       "        [0.27142857, 0.72857143]]))"
      ]
     },
     "execution_count": 478,
     "metadata": {},
     "output_type": "execute_result"
    }
   ],
   "source": [
    "#### karstens answers\n",
    "karsten_abt = pd.merge(first_mapping_wide, karsten_answers,\n",
    "                       left_on=\"p\", \n",
    "                       right_on=\"id\",\n",
    "                       how=\"inner\")\n",
    "\n",
    "karsten_abt = pd.merge(karsten_abt,karsten_answers,left_on=\"gt\", right_on=\"id\",how=\"inner\")\n",
    "\n",
    "# calculate based on abt\n",
    "karsten_cm = confusion_matrix(karsten_abt[\"macular edema (0/1)_x\"],karsten_abt[\"macular edema (0/1)_y\"])\n",
    "karsten_cm_norm = karsten_cm / np.sum(karsten_cm,axis=1)[:, np.newaxis]\n",
    "\n",
    "#### thiagos answers\n",
    "thiago_abt = pd.merge(first_mapping_wide, thiago_answers,\n",
    "                       left_on=\"p\", \n",
    "                       right_on=\"id\",\n",
    "                       how=\"inner\")\n",
    "\n",
    "thiago_abt = pd.merge(thiago_abt,thiago_answers,left_on=\"gt\", right_on=\"id\",how=\"inner\")\n",
    "\n",
    "# calculate based on abt\n",
    "thiago_cm = confusion_matrix(thiago_abt[\"macular edema (0/1)_x\"],thiago_abt[\"macular edema (0/1)_y\"])\n",
    "thiago_cm_norm = thiago_cm / np.sum(thiago_cm,axis=1)[:, np.newaxis]\n",
    "\n",
    "#### bens answers\n",
    "\n",
    "ben_abt = pd.merge(second_mapping,ben_answers,left_on=\"prediction_pseudo\", right_on=\"id\",how=\"inner\")\n",
    "ben_abt = pd.merge(ben_abt,ben_answers,left_on=\"label_pseudo\", right_on=\"id\",how=\"inner\")\n",
    "\n",
    "# calculate based on abt\n",
    "ben_cm = confusion_matrix(ben_abt[\"macular edema (0/1)_x\"],ben_abt[\"macular edema (0/1)_y\"])\n",
    "ben_cm_norm = ben_cm / np.sum(ben_cm,axis=1)[:, np.newaxis]\n",
    "ben_cm_norm, thiago_cm_norm, karsten_cm_norm"
   ]
  },
  {
   "cell_type": "markdown",
   "metadata": {},
   "source": [
    "#### mean alignment"
   ]
  },
  {
   "cell_type": "code",
   "execution_count": 479,
   "metadata": {},
   "outputs": [
    {
     "data": {
      "text/plain": [
       "array([[0.69478183, 0.30521817],\n",
       "       [0.21143952, 0.78856048]])"
      ]
     },
     "execution_count": 479,
     "metadata": {},
     "output_type": "execute_result"
    }
   ],
   "source": [
    "mean_cm = (karsten_cm_norm + thiago_cm_norm + ben_cm_norm)/3.\n",
    "std_cm = np.std([karsten_cm_norm , thiago_cm_norm, ben_cm_norm],axis=0)\n",
    "mean_cm"
   ]
  },
  {
   "cell_type": "code",
   "execution_count": 480,
   "metadata": {},
   "outputs": [
    {
     "name": "stdout",
     "output_type": "stream",
     "text": [
      "Saving: mean_cm.png\n"
     ]
    },
    {
     "data": {
      "image/png": "[encoded data removed]",
      "text/plain": [
       "<Figure size 720x720 with 1 Axes>"
      ]
     },
     "metadata": {
      "needs_background": "light"
     },
     "output_type": "display_data"
    }
   ],
   "source": [
    "# plot mean alignment\n",
    "mean_cm = np.array([[0.69, 0.31],\n",
    "       [0.21, 0.79]])\n",
    "\n",
    "std_cm = np.array([[0.02, 0.02],\n",
    "       [0.06, 0.06]])\n",
    "\n",
    "plot_confusion_matrix(mean_cm, std_cm, save_dir=\"mean_cm.png\")"
   ]
  },
  {
   "cell_type": "markdown",
   "metadata": {},
   "source": [
    "### calculate alignment ratios between doctors w.r.t. to answers on the very same examples"
   ]
  },
  {
   "cell_type": "code",
   "execution_count": 481,
   "metadata": {},
   "outputs": [],
   "source": [
    "ka_abt = karsten_abt.rename(columns={\"macular edema (0/1)_x\": \"k_x\", \"macular edema (0/1)_y\": \"k_y\"})\n",
    "ka_abt = ka_abt[[\"record_name\", \"k_x\", \"k_y\"]]\n",
    "\n",
    "ta_abt = thiago_abt.rename(columns={\"macular edema (0/1)_x\": \"t_x\", \"macular edema (0/1)_y\": \"t_y\"})\n",
    "ta_abt = ta_abt[[\"record_name\", \"t_x\", \"t_y\"]]\n",
    "\n",
    "ba_abt = ben_abt.rename(columns={\"macular edema (0/1)_x\": \"b_x\", \"macular edema (0/1)_y\": \"b_y\"})\n",
    "ba_abt = ba_abt[[\"record_name\", \"b_x\", \"b_y\"]]\n",
    "\n",
    "a_abt = pd.merge(ba_abt, ta_abt, left_on=\"record_name\", right_on=\"record_name\", how=\"inner\")\n",
    "a_abt = pd.merge(ka_abt, a_abt, left_on=\"record_name\", right_on=\"record_name\", how=\"inner\")\n",
    "\n",
    "a_abt.b_x = a_abt.b_x.astype(int)\n",
    "a_abt.b_y = a_abt.b_y.astype(int)"
   ]
  },
  {
   "cell_type": "code",
   "execution_count": 485,
   "metadata": {},
   "outputs": [],
   "source": [
    "def doctor_alignment(ax, ay, bx, by):\n",
    "    abx = confusion_matrix(ax, bx) / np.sum(confusion_matrix(ax, bx),axis=1)[:, np.newaxis]\n",
    "    bax = confusion_matrix(bx, ax) / np.sum(confusion_matrix(bx, ax),axis=1)[:, np.newaxis]\n",
    "    aby = confusion_matrix(ay, by) / np.sum(confusion_matrix(ay, by),axis=1)[:, np.newaxis]\n",
    "    bay = confusion_matrix(by, ay) / np.sum(confusion_matrix(by, ay),axis=1)[:, np.newaxis]\n",
    "    \n",
    "    cm_list = [abx , bax , aby , bay]\n",
    "        \n",
    "    alignement_mean = np.mean([abx , bax , aby , bay], axis=0)\n",
    "    alignement_std = np.std((abx , bax , aby , bay), axis=0, ddof=1)\n",
    "    \n",
    "    return alignement_mean, alignement_std, cm_list"
   ]
  },
  {
   "cell_type": "code",
   "execution_count": 488,
   "metadata": {},
   "outputs": [
    {
     "data": {
      "text/plain": [
       "array([[0.07442598, 0.07442598],\n",
       "       [0.10733179, 0.10733179]])"
      ]
     },
     "execution_count": 488,
     "metadata": {},
     "output_type": "execute_result"
    }
   ],
   "source": [
    "np.std(kt_list + kb_list + tb_list, axis=0, ddof=1)"
   ]
  },
  {
   "cell_type": "code",
   "execution_count": 490,
   "metadata": {},
   "outputs": [
    {
     "name": "stdout",
     "output_type": "stream",
     "text": [
      "Saving: inter_doctor_alignment_mean.png\n"
     ]
    },
    {
     "data": {
      "image/png": "[encoded data removed]",
      "text/plain": [
       "<Figure size 720x720 with 1 Axes>"
      ]
     },
     "metadata": {
      "needs_background": "light"
     },
     "output_type": "display_data"
    }
   ],
   "source": [
    "cm_kt , std_cm_kt, kt_list = doctor_alignment(a_abt.k_x, a_abt.k_y, a_abt.t_x, a_abt.t_y)\n",
    "cm_kb , std_cm_kb, kb_list = doctor_alignment(a_abt.k_x, a_abt.k_y, a_abt.b_x, a_abt.b_y)\n",
    "cm_tb , std_cm_tb, tb_list = doctor_alignment(a_abt.t_x, a_abt.t_y, a_abt.b_x, a_abt.b_y)\n",
    "\n",
    "\n",
    "cm = (cm_kt + cm_kb + cm_tb) / 3.\n",
    "cm_std = np.std(kt_list + kb_list + tb_list, axis=0, ddof=1)\n",
    "\n",
    "cm, cm_std\n",
    "\n",
    "plot_confusion_matrix(cm, cm_std, save_dir=\"inter_doctor_alignment_mean.png\")"
   ]
  }
 ],
 "metadata": {
  "kernelspec": {
   "display_name": "Python [conda env:DeepRT]",
   "language": "python",
   "name": "conda-env-DeepRT-py"
  },
  "language_info": {
   "codemirror_mode": {
    "name": "ipython",
    "version": 3
   },
   "file_extension": ".py",
   "mimetype": "text/x-python",
   "name": "python",
   "nbconvert_exporter": "python",
   "pygments_lexer": "ipython3",
   "version": "3.7.6"
  }
 },
 "nbformat": 4,
 "nbformat_minor": 2
}
