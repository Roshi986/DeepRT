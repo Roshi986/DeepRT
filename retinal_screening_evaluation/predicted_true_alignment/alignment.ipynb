{
 "cells": [
  {
   "cell_type": "code",
   "execution_count": 2,
   "metadata": {},
   "outputs": [],
   "source": [
    "import os\n",
    "import pandas as pd\n",
    "import numpy as np\n",
    "import matplotlib.pyplot as plt\n",
    "from sklearn.metrics import confusion_matrix"
   ]
  },
  {
   "cell_type": "code",
   "execution_count": 15,
   "metadata": {},
   "outputs": [],
   "source": [
    "eval_1_answer = np.loadtxt(\"eval_1_answer.txt\")\n",
    "eval_2_answer = np.loadtxt(\"eval_2_answer.txt\")\n",
    "eval_3_answer = np.loadtxt(\"eval_3_answer.txt\")\n",
    "\n",
    "mean = np.mean([eval_1_answer, eval_2_answer, eval_3_answer], axis=0)\n",
    "std = np.std([eval_1_answer, eval_2_answer, eval_3_answer], axis=0) "
   ]
  },
  {
   "cell_type": "code",
   "execution_count": 7,
   "metadata": {},
   "outputs": [],
   "source": []
  }
 ],
 "metadata": {
  "kernelspec": {
   "display_name": "Python 3",
   "language": "python",
   "name": "python3"
  },
  "language_info": {
   "codemirror_mode": {
    "name": "ipython",
    "version": 3
   },
   "file_extension": ".py",
   "mimetype": "text/x-python",
   "name": "python",
   "nbconvert_exporter": "python",
   "pygments_lexer": "ipython3",
   "version": "3.6.10"
  }
 },
 "nbformat": 4,
 "nbformat_minor": 2
}
